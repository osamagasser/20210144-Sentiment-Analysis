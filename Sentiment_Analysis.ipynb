{
  "nbformat": 4,
  "nbformat_minor": 0,
  "metadata": {
    "colab": {
      "provenance": [],
      "authorship_tag": "ABX9TyMBTRoSCLnYRLEJSlVC7WsN",
      "include_colab_link": true
    },
    "kernelspec": {
      "name": "python3",
      "display_name": "Python 3"
    },
    "language_info": {
      "name": "python"
    }
  },
  "cells": [
    {
      "cell_type": "markdown",
      "metadata": {
        "id": "view-in-github",
        "colab_type": "text"
      },
      "source": [
        "<a href=\"https://colab.research.google.com/github/osamagasser/20210144-Sentiment-Analysis/blob/main/Sentiment_Analysis.ipynb\" target=\"_parent\"><img src=\"https://colab.research.google.com/assets/colab-badge.svg\" alt=\"Open In Colab\"/></a>"
      ]
    },
    {
      "cell_type": "code",
      "execution_count": 1,
      "metadata": {
        "id": "nQOSRfYsNxlI"
      },
      "outputs": [],
      "source": [
        "import tensorflow as tf\n",
        "from tensorflow.keras.datasets import imdb\n",
        "from tensorflow.keras.preprocessing.sequence import pad_sequences\n",
        "from tensorflow.keras.models import Sequential\n",
        "from tensorflow.keras.layers import Embedding, LSTM, Dense, Dropout\n",
        "import numpy as np"
      ]
    },
    {
      "cell_type": "code",
      "source": [
        "# Load IMDB dataset\n",
        "num_words = 10000  # Keep only the top 10,000 words\n",
        "max_length = 200  # Set max review length for padding\n",
        "\n",
        "(x_train, y_train), (x_test, y_test) = imdb.load_data(num_words=num_words)"
      ],
      "metadata": {
        "colab": {
          "base_uri": "https://localhost:8080/"
        },
        "id": "OuB3FzuiOG8E",
        "outputId": "b7749ae6-2b06-4df8-9cf5-50275d5856ea"
      },
      "execution_count": 2,
      "outputs": [
        {
          "output_type": "stream",
          "name": "stdout",
          "text": [
            "Downloading data from https://storage.googleapis.com/tensorflow/tf-keras-datasets/imdb.npz\n",
            "\u001b[1m17464789/17464789\u001b[0m \u001b[32m━━━━━━━━━━━━━━━━━━━━\u001b[0m\u001b[37m\u001b[0m \u001b[1m1s\u001b[0m 0us/step\n"
          ]
        }
      ]
    },
    {
      "cell_type": "code",
      "source": [
        "# Pad sequences to make all reviews the same length\n",
        "x_train = pad_sequences(x_train, maxlen=max_length, padding='post')\n",
        "x_test = pad_sequences(x_test, maxlen=max_length, padding='post')"
      ],
      "metadata": {
        "id": "b12L21B_OFhi"
      },
      "execution_count": 3,
      "outputs": []
    },
    {
      "cell_type": "code",
      "source": [
        "# Define LSTM Model\n",
        "model = Sequential([\n",
        "    Embedding(input_dim=num_words, output_dim=32, input_length=max_length),\n",
        "    LSTM(64, return_sequences=True),\n",
        "    LSTM(32),\n",
        "    Dense(16, activation='relu'),\n",
        "    Dropout(0.5),\n",
        "    Dense(1, activation='sigmoid')  # Sigmoid for binary classification\n",
        "])"
      ],
      "metadata": {
        "colab": {
          "base_uri": "https://localhost:8080/"
        },
        "id": "6IPjM0WcOD2o",
        "outputId": "d0f21de5-b44f-4165-a7ab-660689422d16"
      },
      "execution_count": 4,
      "outputs": [
        {
          "output_type": "stream",
          "name": "stderr",
          "text": [
            "/usr/local/lib/python3.11/dist-packages/keras/src/layers/core/embedding.py:90: UserWarning: Argument `input_length` is deprecated. Just remove it.\n",
            "  warnings.warn(\n"
          ]
        }
      ]
    },
    {
      "cell_type": "code",
      "source": [
        "# Compile the Model\n",
        "model.compile(loss='binary_crossentropy', optimizer='adam', metrics=['accuracy'])"
      ],
      "metadata": {
        "id": "JYmtDJl6OCpu"
      },
      "execution_count": 5,
      "outputs": []
    },
    {
      "cell_type": "code",
      "source": [
        "# Train the Model\n",
        "model.fit(x_train, y_train, epochs=3, batch_size=128, validation_data=(x_test, y_test))"
      ],
      "metadata": {
        "colab": {
          "base_uri": "https://localhost:8080/"
        },
        "id": "4E0TSh1LOBYC",
        "outputId": "03b269f9-48f6-4189-c1b8-ac88f78769ea"
      },
      "execution_count": 6,
      "outputs": [
        {
          "output_type": "stream",
          "name": "stdout",
          "text": [
            "Epoch 1/3\n",
            "\u001b[1m196/196\u001b[0m \u001b[32m━━━━━━━━━━━━━━━━━━━━\u001b[0m\u001b[37m\u001b[0m \u001b[1m122s\u001b[0m 598ms/step - accuracy: 0.5236 - loss: 0.6878 - val_accuracy: 0.5226 - val_loss: 0.6882\n",
            "Epoch 2/3\n",
            "\u001b[1m196/196\u001b[0m \u001b[32m━━━━━━━━━━━━━━━━━━━━\u001b[0m\u001b[37m\u001b[0m \u001b[1m127s\u001b[0m 524ms/step - accuracy: 0.5623 - loss: 0.6698 - val_accuracy: 0.5150 - val_loss: 0.6774\n",
            "Epoch 3/3\n",
            "\u001b[1m196/196\u001b[0m \u001b[32m━━━━━━━━━━━━━━━━━━━━\u001b[0m\u001b[37m\u001b[0m \u001b[1m101s\u001b[0m 516ms/step - accuracy: 0.6017 - loss: 0.6536 - val_accuracy: 0.6904 - val_loss: 0.5693\n"
          ]
        },
        {
          "output_type": "execute_result",
          "data": {
            "text/plain": [
              "<keras.src.callbacks.history.History at 0x7e36eab12c90>"
            ]
          },
          "metadata": {},
          "execution_count": 6
        }
      ]
    },
    {
      "cell_type": "code",
      "source": [
        "\n",
        "# Evaluate the Model\n",
        "test_loss, test_acc = model.evaluate(x_test, y_test)\n",
        "print(f\"\\nTest Accuracy: {test_acc:.2f}\")"
      ],
      "metadata": {
        "colab": {
          "base_uri": "https://localhost:8080/"
        },
        "id": "igFRsCtdOACA",
        "outputId": "e5154d45-26e3-429f-bc88-f64d7e1137bb"
      },
      "execution_count": 7,
      "outputs": [
        {
          "output_type": "stream",
          "name": "stdout",
          "text": [
            "\u001b[1m782/782\u001b[0m \u001b[32m━━━━━━━━━━━━━━━━━━━━\u001b[0m\u001b[37m\u001b[0m \u001b[1m37s\u001b[0m 47ms/step - accuracy: 0.6939 - loss: 0.5663\n",
            "\n",
            "Test Accuracy: 0.69\n"
          ]
        }
      ]
    },
    {
      "cell_type": "code",
      "source": [
        "# Function to Predict Sentiment from Text\n",
        "word_index = imdb.get_word_index()\n",
        "reverse_word_index = {v: k for k, v in word_index.items()}  # Reverse mapping\n",
        "\n",
        "def decode_review(encoded_review):\n",
        "    return \" \".join([reverse_word_index.get(i - 3, \"?\") for i in encoded_review])\n",
        "\n",
        "def predict_sentiment(text):\n",
        "    # Tokenize the input text\n",
        "    words = text.lower().split()\n",
        "    encoded_seq = [word_index.get(word, 2) + 3 for word in words]  # Use 2 for unknown words\n",
        "\n",
        "    # Pad the sequence\n",
        "    padded_seq = pad_sequences([encoded_seq], maxlen=max_length, padding='post')\n",
        "\n",
        "    # DEBUG: Print padded_seq to check if it is properly created\n",
        "    print(f\"Processed Text: {text}\")\n",
        "    print(f\"Encoded Sequence: {encoded_seq}\")\n",
        "    print(f\"Padded Sequence Shape: {padded_seq.shape}\")\n",
        "\n",
        "    # Make prediction\n",
        "    prediction = model.predict(padded_seq)\n",
        "    sentiment = \"Positive\" if prediction > 0.5 else \"Negative\"\n",
        "\n",
        "    return sentiment, float(prediction[0][0])\n"
      ],
      "metadata": {
        "id": "XJrLE-vnN9j-"
      },
      "execution_count": 16,
      "outputs": []
    },
    {
      "cell_type": "code",
      "source": [
        "# Test on Custom Reviews\n",
        "test_sentences = [\n",
        "    \"This movie was absolutely fantastic!\",\n",
        "    \"I hated this film. It was so boring.\",\n",
        "    \"The acting was great but the plot was weak.\",\n",
        "    \"Not my favorite movie, but it was okay.\",\n",
        "    \"One of the best films I have ever seen!\",\n",
        "    \"Terrible storyline, I wouldn’t recommend it.\",\n",
        "    \"I really enjoyed watching this, such a great experience!\",\n",
        "    \"The worst performance by an actor in a long time.\",\n",
        "    \"I loved the cinematography, but the story lacked depth.\",\n",
        "    \"A complete waste of time. Would not watch again.\"\n",
        "]\n"
      ],
      "metadata": {
        "id": "MlFEc2gvN6n-"
      },
      "execution_count": 18,
      "outputs": []
    },
    {
      "cell_type": "code",
      "source": [
        "# Store predictions\n",
        "output_text = f\"Test Accuracy: {test_acc:.2f}\\n\\nSentiment Analysis Results:\\n\"\n",
        "\n",
        "for sentence in test_sentences:\n",
        "    sentiment, confidence = predict_sentiment(sentence)\n",
        "    result = f\"Text: {sentence}\\nSentiment: {sentiment} (Confidence: {confidence:.2f})\\n\"\n",
        "    print(result)  # Print in Colab\n",
        "    output_text += result + \"\\n\""
      ],
      "metadata": {
        "colab": {
          "base_uri": "https://localhost:8080/"
        },
        "id": "1Z3j-4MPN5NE",
        "outputId": "9224069c-65c7-4b3c-bb96-2e8fb182dea8"
      },
      "execution_count": 19,
      "outputs": [
        {
          "output_type": "stream",
          "name": "stdout",
          "text": [
            "Processed Text: This movie was absolutely fantastic!\n",
            "Encoded Sequence: [14, 20, 16, 427, 5]\n",
            "Padded Sequence Shape: (1, 200)\n",
            "\u001b[1m1/1\u001b[0m \u001b[32m━━━━━━━━━━━━━━━━━━━━\u001b[0m\u001b[37m\u001b[0m \u001b[1m0s\u001b[0m 423ms/step\n",
            "Text: This movie was absolutely fantastic!\n",
            "Sentiment: Positive (Confidence: 0.86)\n",
            "\n",
            "Processed Text: I hated this film. It was so boring.\n",
            "Encoded Sequence: [13, 1800, 14, 5, 12, 16, 38, 5]\n",
            "Padded Sequence Shape: (1, 200)\n",
            "\u001b[1m1/1\u001b[0m \u001b[32m━━━━━━━━━━━━━━━━━━━━\u001b[0m\u001b[37m\u001b[0m \u001b[1m0s\u001b[0m 53ms/step\n",
            "Text: I hated this film. It was so boring.\n",
            "Sentiment: Positive (Confidence: 0.86)\n",
            "\n",
            "Processed Text: The acting was great but the plot was weak.\n",
            "Encoded Sequence: [4, 116, 16, 87, 21, 4, 114, 16, 5]\n",
            "Padded Sequence Shape: (1, 200)\n",
            "\u001b[1m1/1\u001b[0m \u001b[32m━━━━━━━━━━━━━━━━━━━━\u001b[0m\u001b[37m\u001b[0m \u001b[1m0s\u001b[0m 54ms/step\n",
            "Text: The acting was great but the plot was weak.\n",
            "Sentiment: Positive (Confidence: 0.86)\n",
            "\n",
            "Processed Text: Not my favorite movie, but it was okay.\n",
            "Encoded Sequence: [24, 61, 514, 5, 21, 12, 16, 5]\n",
            "Padded Sequence Shape: (1, 200)\n",
            "\u001b[1m1/1\u001b[0m \u001b[32m━━━━━━━━━━━━━━━━━━━━\u001b[0m\u001b[37m\u001b[0m \u001b[1m0s\u001b[0m 53ms/step\n",
            "Text: Not my favorite movie, but it was okay.\n",
            "Sentiment: Positive (Confidence: 0.86)\n",
            "\n",
            "Processed Text: One of the best films I have ever seen!\n",
            "Encoded Sequence: [31, 7, 4, 118, 108, 13, 28, 126, 5]\n",
            "Padded Sequence Shape: (1, 200)\n",
            "\u001b[1m1/1\u001b[0m \u001b[32m━━━━━━━━━━━━━━━━━━━━\u001b[0m\u001b[37m\u001b[0m \u001b[1m0s\u001b[0m 60ms/step\n",
            "Text: One of the best films I have ever seen!\n",
            "Sentiment: Positive (Confidence: 0.86)\n",
            "\n",
            "Processed Text: Terrible storyline, I wouldn’t recommend it.\n",
            "Encoded Sequence: [394, 5, 13, 5, 386, 5]\n",
            "Padded Sequence Shape: (1, 200)\n",
            "\u001b[1m1/1\u001b[0m \u001b[32m━━━━━━━━━━━━━━━━━━━━\u001b[0m\u001b[37m\u001b[0m \u001b[1m0s\u001b[0m 52ms/step\n",
            "Text: Terrible storyline, I wouldn’t recommend it.\n",
            "Sentiment: Negative (Confidence: 0.49)\n",
            "\n",
            "Processed Text: I really enjoyed watching this, such a great experience!\n",
            "Encoded Sequence: [13, 66, 510, 149, 5, 141, 6, 87, 5]\n",
            "Padded Sequence Shape: (1, 200)\n",
            "\u001b[1m1/1\u001b[0m \u001b[32m━━━━━━━━━━━━━━━━━━━━\u001b[0m\u001b[37m\u001b[0m \u001b[1m0s\u001b[0m 49ms/step\n",
            "Text: I really enjoyed watching this, such a great experience!\n",
            "Sentiment: Positive (Confidence: 0.86)\n",
            "\n",
            "Processed Text: The worst performance by an actor in a long time.\n",
            "Encoded Sequence: [4, 249, 239, 34, 35, 284, 11, 6, 196, 5]\n",
            "Padded Sequence Shape: (1, 200)\n",
            "\u001b[1m1/1\u001b[0m \u001b[32m━━━━━━━━━━━━━━━━━━━━\u001b[0m\u001b[37m\u001b[0m \u001b[1m0s\u001b[0m 54ms/step\n",
            "Text: The worst performance by an actor in a long time.\n",
            "Sentiment: Negative (Confidence: 0.49)\n",
            "\n",
            "Processed Text: I loved the cinematography, but the story lacked depth.\n",
            "Encoded Sequence: [13, 447, 4, 5, 21, 4, 65, 3674, 5]\n",
            "Padded Sequence Shape: (1, 200)\n",
            "\u001b[1m1/1\u001b[0m \u001b[32m━━━━━━━━━━━━━━━━━━━━\u001b[0m\u001b[37m\u001b[0m \u001b[1m0s\u001b[0m 49ms/step\n",
            "Text: I loved the cinematography, but the story lacked depth.\n",
            "Sentiment: Positive (Confidence: 0.86)\n",
            "\n",
            "Processed Text: A complete waste of time. Would not watch again.\n",
            "Encoded Sequence: [6, 601, 437, 7, 5, 62, 24, 106, 5]\n",
            "Padded Sequence Shape: (1, 200)\n",
            "\u001b[1m1/1\u001b[0m \u001b[32m━━━━━━━━━━━━━━━━━━━━\u001b[0m\u001b[37m\u001b[0m \u001b[1m0s\u001b[0m 61ms/step\n",
            "Text: A complete waste of time. Would not watch again.\n",
            "Sentiment: Negative (Confidence: 0.49)\n",
            "\n"
          ]
        }
      ]
    },
    {
      "cell_type": "code",
      "source": [
        "# Save Output to File\n",
        "with open(\"output.txt\", \"w\") as f:\n",
        "    f.write(output_text)"
      ],
      "metadata": {
        "id": "TdLQhSZON3_0"
      },
      "execution_count": 20,
      "outputs": []
    },
    {
      "cell_type": "code",
      "source": [
        "# Download the output file for GitHub\n",
        "from google.colab import files\n",
        "files.download(\"output.txt\")"
      ],
      "metadata": {
        "colab": {
          "base_uri": "https://localhost:8080/",
          "height": 17
        },
        "id": "Mt4rAzW7N217",
        "outputId": "74f1c6b0-ec8e-4708-f3cd-eae8ce6fa1d9"
      },
      "execution_count": 21,
      "outputs": [
        {
          "output_type": "display_data",
          "data": {
            "text/plain": [
              "<IPython.core.display.Javascript object>"
            ],
            "application/javascript": [
              "\n",
              "    async function download(id, filename, size) {\n",
              "      if (!google.colab.kernel.accessAllowed) {\n",
              "        return;\n",
              "      }\n",
              "      const div = document.createElement('div');\n",
              "      const label = document.createElement('label');\n",
              "      label.textContent = `Downloading \"${filename}\": `;\n",
              "      div.appendChild(label);\n",
              "      const progress = document.createElement('progress');\n",
              "      progress.max = size;\n",
              "      div.appendChild(progress);\n",
              "      document.body.appendChild(div);\n",
              "\n",
              "      const buffers = [];\n",
              "      let downloaded = 0;\n",
              "\n",
              "      const channel = await google.colab.kernel.comms.open(id);\n",
              "      // Send a message to notify the kernel that we're ready.\n",
              "      channel.send({})\n",
              "\n",
              "      for await (const message of channel.messages) {\n",
              "        // Send a message to notify the kernel that we're ready.\n",
              "        channel.send({})\n",
              "        if (message.buffers) {\n",
              "          for (const buffer of message.buffers) {\n",
              "            buffers.push(buffer);\n",
              "            downloaded += buffer.byteLength;\n",
              "            progress.value = downloaded;\n",
              "          }\n",
              "        }\n",
              "      }\n",
              "      const blob = new Blob(buffers, {type: 'application/binary'});\n",
              "      const a = document.createElement('a');\n",
              "      a.href = window.URL.createObjectURL(blob);\n",
              "      a.download = filename;\n",
              "      div.appendChild(a);\n",
              "      a.click();\n",
              "      div.remove();\n",
              "    }\n",
              "  "
            ]
          },
          "metadata": {}
        },
        {
          "output_type": "display_data",
          "data": {
            "text/plain": [
              "<IPython.core.display.Javascript object>"
            ],
            "application/javascript": [
              "download(\"download_d27a4a83-e675-4a3f-bec4-b35ec03fffaf\", \"output.txt\", 966)"
            ]
          },
          "metadata": {}
        }
      ]
    }
  ]
}